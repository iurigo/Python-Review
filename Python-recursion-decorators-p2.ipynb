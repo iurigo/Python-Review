{
 "cells": [
  {
   "cell_type": "markdown",
   "metadata": {},
   "source": [
    "### Recursion"
   ]
  },
  {
   "cell_type": "code",
   "execution_count": 6,
   "metadata": {
    "collapsed": true
   },
   "outputs": [],
   "source": [
    "# Question 1\n",
    "def myExponent(base, exponent):\n",
    "    if exponent == 0:\n",
    "        return 1\n",
    "    else:\n",
    "        return base * myExponent(base, exponent-1)"
   ]
  },
  {
   "cell_type": "code",
   "execution_count": 13,
   "metadata": {},
   "outputs": [
    {
     "data": {
      "text/plain": [
       "1024"
      ]
     },
     "execution_count": 13,
     "metadata": {},
     "output_type": "execute_result"
    }
   ],
   "source": [
    "myExponent(2,10)"
   ]
  },
  {
   "cell_type": "code",
   "execution_count": 11,
   "metadata": {
    "collapsed": true
   },
   "outputs": [],
   "source": [
    "# Question 2\n",
    "def sumList(someList):\n",
    "    if len(someList) == 1:\n",
    "        return someList[0]\n",
    "    else:\n",
    "        return someList[0] + sumList(someList[1:])"
   ]
  },
  {
   "cell_type": "code",
   "execution_count": 14,
   "metadata": {},
   "outputs": [
    {
     "data": {
      "text/plain": [
       "9"
      ]
     },
     "execution_count": 14,
     "metadata": {},
     "output_type": "execute_result"
    }
   ],
   "source": [
    "sumList([2,3,4])"
   ]
  },
  {
   "cell_type": "code",
   "execution_count": 23,
   "metadata": {
    "collapsed": true
   },
   "outputs": [],
   "source": [
    "# Question 3\n",
    "def getSumOfPositiveInt(anInteger):\n",
    "    if anInteger == 0:\n",
    "        return 0\n",
    "    else:\n",
    "        return anInteger % 10 + getSumOfPositiveInt(int(anInteger/10))"
   ]
  },
  {
   "cell_type": "code",
   "execution_count": 25,
   "metadata": {},
   "outputs": [
    {
     "data": {
      "text/plain": [
       "18"
      ]
     },
     "execution_count": 25,
     "metadata": {},
     "output_type": "execute_result"
    }
   ],
   "source": [
    "getSumOfPositiveInt(13455)"
   ]
  },
  {
   "cell_type": "markdown",
   "metadata": {},
   "source": [
    "### Decorators"
   ]
  },
  {
   "cell_type": "code",
   "execution_count": 2,
   "metadata": {},
   "outputs": [
    {
     "name": "stdout",
     "output_type": "stream",
     "text": [
      "16\n",
      "32\n"
     ]
    }
   ],
   "source": [
    "# Question 1\n",
    "def bug(func):\n",
    "    def inner(x):\n",
    "        return 2 * func(x)\n",
    "    return inner\n",
    "\n",
    "# no decorating\n",
    "def square(n):\n",
    "    return n**2\n",
    "\n",
    "print square(4)\n",
    "\n",
    "# decorating\n",
    "@bug\n",
    "def square(n):\n",
    "    return n**2\n",
    "\n",
    "print square(4)"
   ]
  },
  {
   "cell_type": "code",
   "execution_count": 52,
   "metadata": {},
   "outputs": [],
   "source": [
    "# Question 2\n",
    "def myDecorator(someFunction):\n",
    "    def theWrapper(theString):\n",
    "        print(\"I'm the top wrapper.\")\n",
    "        print someFunction(theString)\n",
    "        print(\"I'm the bottom wrapper.\")\n",
    "    return theWrapper"
   ]
  },
  {
   "cell_type": "code",
   "execution_count": 53,
   "metadata": {},
   "outputs": [
    {
     "name": "stdout",
     "output_type": "stream",
     "text": [
      "I'm the top wrapper.\n",
      "This is my String!\n",
      "I'm the bottom wrapper.\n"
     ]
    }
   ],
   "source": [
    "@myDecorator\n",
    "def argumentFunction(someString):\n",
    "    return someString\n",
    "\n",
    "argumentFunction(\"This is my String!\")"
   ]
  },
  {
   "cell_type": "code",
   "execution_count": 55,
   "metadata": {},
   "outputs": [
    {
     "data": {
      "text/plain": [
       "'Hi Phil. Your answer is 4'"
      ]
     },
     "execution_count": 55,
     "metadata": {},
     "output_type": "execute_result"
    }
   ],
   "source": [
    "# Question 3\n",
    "def tell_me_more_friend(name):\n",
    "    def decorate(func):\n",
    "        def inner(x):\n",
    "            return \"Hi {0}. Your answer is {1}\".format(name, func(x))\n",
    "        return inner\n",
    "    return decorate\n",
    "\n",
    "\n",
    "@tell_me_more_friend(\"Phil\")\n",
    "def double(x):\n",
    "    return x*2\n",
    "\n",
    "\n",
    "double(2)"
   ]
  }
 ],
 "metadata": {
  "kernelspec": {
   "display_name": "Python 2",
   "language": "python",
   "name": "python2"
  },
  "language_info": {
   "codemirror_mode": {
    "name": "ipython",
    "version": 2
   },
   "file_extension": ".py",
   "mimetype": "text/x-python",
   "name": "python",
   "nbconvert_exporter": "python",
   "pygments_lexer": "ipython2",
   "version": "2.7.13"
  }
 },
 "nbformat": 4,
 "nbformat_minor": 2
}
