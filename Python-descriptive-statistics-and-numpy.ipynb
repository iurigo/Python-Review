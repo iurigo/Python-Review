{
 "cells": [
  {
   "cell_type": "markdown",
   "metadata": {},
   "source": [
    "\n",
    "## Introduction to Descriptive Statistics with `numpy`\n",
    "\n",
    "\n",
    "\n",
    "---"
   ]
  },
  {
   "cell_type": "markdown",
   "metadata": {},
   "source": [
    "### Learning Objectives\n",
    "*After this lesson, you will be able to:*\n",
    "- Understand the measures of central tendency (mean, median, and mode).\n",
    "- Understand how mean, median and mode are affected by skewness in data.\n",
    "- Understand measures of variability (variance and standard deviation)."
   ]
  },
  {
   "cell_type": "markdown",
   "metadata": {},
   "source": [
    "---\n",
    "\n",
    "### Lesson Guide\n",
    "\n",
    "- [Descriptive Statistics vs. Inferential Statistics](#descriptive_stats)\n",
    "- [Measures of Central Tendency](#central_tendency)\n",
    "- [Skewness](#skewness)\n",
    "- [Measures of Dispersion](#dispersion)\n",
    "- [Independent Practice](#independent_practice)\n"
   ]
  },
  {
   "cell_type": "markdown",
   "metadata": {},
   "source": [
    "<a id='descriptive_stats'></a>\n",
    "\n",
    "### Descriptive Statistics\n",
    "\n",
    "---\n",
    "\n",
    "There are two main fields of statistics: **descriptive** and **inferential**.\n",
    "\n",
    "We use inferential statistics to make judgments about the world based on samples of data. For example, how dependable is an observed difference between groups? When we start covering modeling and hypothesis testing, our focus will shift to inferential statistics.\n",
    "\n",
    "Right now, we're going to focus on descriptive statistics: describing, summarizing, and understanding data.\n",
    "\n",
    "Today, we'll focus on univariate statistics — that is, statistics or summaries that are calculated with **one variable**.\n",
    "\n",
    "All variables have what is called a **distribution**. The distribution is the set of all possible values that a variable can take on, as well as how frequently it takes on each of these values. (One popular way to visualize the distribution of a variable is by using a histogram or bar chart).\n",
    "\n",
    "\n",
    "The first section of this lesson covers the **measures of central tendency**. Measures of central tendency provide descriptive information about the single numerical value that is considered to be the \"most typical\" of the values of a quantitative variable.\n",
    "You're probably already familiar with some measures of central tendency: The **mean, median,** and **mode**.\n",
    "\n",
    "We'll also discuss **skewness**, which is the lack of symmetry in a distribution of data that affects the mean, median, and mode.\n",
    "\n",
    "Lastly, we'll take a look at **measures of dispersion** or variability in our data, namely the **range, variance**, and **standard deviation**.\n"
   ]
  },
  {
   "cell_type": "markdown",
   "metadata": {},
   "source": [
    "<a id='central_tendency'></a>\n",
    "\n",
    "### Measures of Central Tendency\n",
    "\n",
    "---\n",
    "\n",
    "\n",
    "#### Mean\n",
    "\n",
    "The mean is the sum of the numbers in a list, divided by the length of that list.\n",
    "\n",
    "**Check:** Find the mean of this list using Python:\n"
   ]
  },
  {
   "cell_type": "code",
   "execution_count": 19,
   "metadata": {},
   "outputs": [
    {
     "name": "stdout",
     "output_type": "stream",
     "text": [
      "9.59272727273\n",
      "9.59272727273\n"
     ]
    }
   ],
   "source": [
    "import numpy as np\n",
    "\n",
    "samples = [1,2,3,4,5,6,7,8,9,5.3,55.22]\n",
    "the_mean = np.mean(samples)\n",
    "print the_mean\n",
    "the_mean1 = sum(samples) / len(samples)\n",
    "print the_mean1"
   ]
  },
  {
   "cell_type": "markdown",
   "metadata": {},
   "source": [
    "---\n",
    "\n",
    "#### Median\n",
    "\n",
    "For odd-length vectors: The median is the middle number of the ordered list.\n",
    "\n",
    "For even-length vectors: The median is the average of the two middle-most numbers of the ordered list.\n"
   ]
  },
  {
   "cell_type": "markdown",
   "metadata": {},
   "source": [
    "#### Calculate the Median\n",
    "\n",
    "Here are two samples we will work with.  One set has an odd number of samples, while the other is even.  From  here, we will work with these basic objects."
   ]
  },
  {
   "cell_type": "code",
   "execution_count": 21,
   "metadata": {},
   "outputs": [
    {
     "name": "stdout",
     "output_type": "stream",
     "text": [
      "[1, 2, 3, 5, 7, 8, 9, 10, 15]\n",
      "[-5, -1, 0, 1, 2, 3, 8, 20]\n"
     ]
    }
   ],
   "source": [
    "n_odd = [1,5,9,2,8,3,10,15,7]\n",
    "n_even = [8,2,3,1,0,-1,-5,20]\n",
    "n_odd_sorted = sorted(n_odd)\n",
    "n_even_sorted = sorted(n_even)\n",
    "print n_odd_sorted\n",
    "print n_even_sorted"
   ]
  },
  {
   "cell_type": "markdown",
   "metadata": {},
   "source": [
    "#### Median step 1:  Order the numbers\n",
    "\n",
    "First we must sort our list objects in ascending order, making sure to reassign/update our list objects with the new ascending order."
   ]
  },
  {
   "cell_type": "code",
   "execution_count": 1,
   "metadata": {
    "collapsed": true
   },
   "outputs": [],
   "source": [
    "# How do we order the numbers?  \n"
   ]
  },
  {
   "cell_type": "markdown",
   "metadata": {},
   "source": [
    "#### Median for odd-length vectors: Find the middle number\n",
    "\n",
    "Find the middle number in a given list sequence for our object, `n_odd`.  \n",
    "\n",
    "To find the median for an odd sequence of numbers, perform the following operations:\n",
    "\n",
    "1. Divide the length of our list in half. \n",
    "- Subtract .5 from the divided length.\n",
    "- Select the offset of the `n_odd` list based on the halfed length - .5."
   ]
  },
  {
   "cell_type": "code",
   "execution_count": 4,
   "metadata": {
    "collapsed": true
   },
   "outputs": [],
   "source": [
    "# Try it out.  Find the median \n",
    "def median(list):\n",
    "    print \"length is \", len(list)/2"
   ]
  },
  {
   "cell_type": "markdown",
   "metadata": {},
   "source": [
    "#### Median for even-length vectors: Average the center elements\n",
    "    \n",
    "1. Divide the length of our list in half.\n",
    "- Average the `sample_length - 1` item of the even list (`n_even`) with the `sample_length` item of that list."
   ]
  },
  {
   "cell_type": "code",
   "execution_count": 5,
   "metadata": {
    "collapsed": true
   },
   "outputs": [],
   "source": [
    "# Seek the median using Python!  \n",
    "\n",
    "even_sorted = sorted(n_even)\n",
    "list_length = len(even_sorted)\n",
    "\n",
    "(even_sorted)"
   ]
  },
  {
   "cell_type": "markdown",
   "metadata": {},
   "source": [
    "#### Mode\n",
    "\n",
    "**The mode is the most frequently occurring number.**\n",
    "\n",
    "Finding the mode is not as straightforward as the mean or median, so let's walk through how to calculate it using `scipy.stats.mode()`. With a partner, take some time to review the docs on `scipy.stats.mode()`, and implement the solution to find the mode of the assigned variable sample below. For this activity, Google is a good place to start.\n",
    "\n",
    "Note: Finding the mode without `scipy.stats.mode()` is a challenge problem in this lesson's independent practice section."
   ]
  },
  {
   "cell_type": "code",
   "execution_count": 11,
   "metadata": {},
   "outputs": [
    {
     "name": "stdout",
     "output_type": "stream",
     "text": [
      "ModeResult(mode=array([2]), count=array([4]))\n",
      "2\n",
      "4\n"
     ]
    }
   ],
   "source": [
    "from scipy import stats\n",
    "sample = [0,1,1,2,2,2,2,3,3,4,4,4,5]\n",
    "print stats.mode(sample)\n",
    "print stats.mode(sample)[0][0]\n",
    "print stats.mode(sample)[1][0]"
   ]
  },
  {
   "cell_type": "code",
   "execution_count": 14,
   "metadata": {},
   "outputs": [
    {
     "name": "stdout",
     "output_type": "stream",
     "text": [
      "2\n",
      "4\n"
     ]
    }
   ],
   "source": [
    "from scipy.stats import mode\n",
    "sample = [0,1,1,2,2,2,2,3,3,4,4,4,5]\n",
    "print mode(sample)[0][0]\n",
    "print mode(sample)[1][0]"
   ]
  },
  {
   "cell_type": "markdown",
   "metadata": {},
   "source": [
    "<a id='skewness'></a>\n",
    "\n",
    "### Skewness\n",
    "\n",
    "---\n",
    "\n",
    "Skewness refers to the lack of symmetry in a distribution of data.\n",
    "\n",
    "[Technical note: we will be talking about skewness here only in the context of _unimodal_ distributions.]\n",
    "\n",
    "![](assets/images/skewness.png)\n",
    "\n",
    "A *positive-skewed* distribution is one whose right tail is longer or fatter than its left. \n",
    "\n",
    "Conversely, a *negative-skewed* distribution is one whose left tail is longer or fatter than its right.\n",
    "\n",
    "\n",
    "Symmetric distributions have no skewness!\n"
   ]
  },
  {
   "cell_type": "markdown",
   "metadata": {},
   "source": [
    "#### Skewness and measures of central tendency\n",
    "\n",
    "The mean, median, and mode are affected by skewness.\n",
    "\n",
    "When a distribution is symmetric, the mean, median, and mode are the same.\n",
    "\n",
    "> Symmetric: mean == median == mode\n",
    "\n",
    "When a distribution is negatively skewed, the mean is less than the median, which is less than the mode.\n",
    "\n",
    "> Negative skew: mean < median < mode\n",
    "\n",
    "When a distribution is positively skewed, the mean is greater than the median, which is greater than the mode.\n",
    "\n",
    "> Positive skew: mode < median < mean\n"
   ]
  },
  {
   "cell_type": "markdown",
   "metadata": {},
   "source": [
    "Does the list of numbers below form a symmetric distribution? Is it skewed left of right?"
   ]
  },
  {
   "cell_type": "code",
   "execution_count": 22,
   "metadata": {
    "collapsed": true
   },
   "outputs": [],
   "source": [
    "# This is our sample\n",
    "\n",
    "sample = [3, 75, 98, 2, 10, 3, 14, 99, 44, 25, 31, 100, 356, 4, 23, 10, 55, 327, 64, 6, 20]\n",
    "def skewness(lis):\n",
    "    if np.mean(lis) > np.median(lis):\n",
    "        print \"The data are skewed right\"\n",
    "    elif np.mean(lis) < np.median(lis):\n",
    "        print \"The data are skewed left\"\n",
    "    else:\n",
    "        print \"The data are normal\"\n",
    "        \n"
   ]
  },
  {
   "cell_type": "code",
   "execution_count": 17,
   "metadata": {},
   "outputs": [
    {
     "data": {
      "text/plain": [
       "array([[<matplotlib.axes._subplots.AxesSubplot object at 0x11650ff90>]], dtype=object)"
      ]
     },
     "execution_count": 17,
     "metadata": {},
     "output_type": "execute_result"
    },
    {
     "data": {
      "image/png": "[encoded data removed]",
      "text/plain": [
       "<matplotlib.figure.Figure at 0x113d52810>"
      ]
     },
     "metadata": {},
     "output_type": "display_data"
    }
   ],
   "source": [
    "# We can code a quick example to plot this distribution\n",
    "# import pandas as pd\n",
    "import pandas as pd\n",
    "# import seaborn as sns\n",
    "import seaborn as sns\n",
    "# df = pd.DataFrame(sample)\n",
    "df = pd.DataFrame(sample)\n",
    "%matplotlib inline\n",
    "\n",
    "# df.hist(bins=len(sample))\n",
    "df.hist(bins=len(sample))\n"
   ]
  },
  {
   "cell_type": "markdown",
   "metadata": {},
   "source": [
    "<a id='dispersion'></a>\n",
    "\n",
    "### Measures of Dispersion\n",
    "\n",
    "---\n",
    "\n",
    "Measures of dispersion including the **range**, **variance**, and **standard deviation** tell you about the spread of your data.\n",
    "\n",
    "These measurements give complementary information to the measures of central tendency and are no less important.\n"
   ]
  },
  {
   "cell_type": "markdown",
   "metadata": {},
   "source": [
    "#### Range\n",
    "\n",
    "The range is the space between the lowest and highest values of a distribution. Because this metric only depends on two observations, it's a simple calculation. Range shows how widely the numbers in a set vary.\n",
    "\n",
    "To calculate the range:\n",
    "\n",
    "1. Sort the `sample` object in ascending order.\n",
    "- Subtract the first item from the last item.\n",
    "- Compare your result with `numpy`'s `ptp()` method, which accomplishes the same task.\n"
   ]
  },
  {
   "cell_type": "code",
   "execution_count": 23,
   "metadata": {},
   "outputs": [
    {
     "name": "stdout",
     "output_type": "stream",
     "text": [
      "354\n",
      "354\n"
     ]
    }
   ],
   "source": [
    "sample = [3, 75, 98, 2, 10, 3, 14, 99, 44, 25, 31, 100, 356, 4, 23, 55, 327, 64, 6, 20]\n",
    "sorted_sample = sorted(sample)\n",
    "sorted_sample_cleaned = sorted_sample[-1] - sorted_sample[0]\n",
    "print sorted_sample_cleaned\n",
    "# With numpy:\n",
    "n_range = np.ptp(sample)\n",
    "print n_range\n",
    "\n",
    "# Now implement this in pure Python"
   ]
  },
  {
   "cell_type": "code",
   "execution_count": 24,
   "metadata": {},
   "outputs": [
    {
     "name": "stdout",
     "output_type": "stream",
     "text": [
      "\u001b[0;31mHi world\n"
     ]
    }
   ],
   "source": [
    "print('\\033[0;31mHi world')"
   ]
  },
  {
   "cell_type": "markdown",
   "metadata": {},
   "source": [
    "#### Variance\n",
    "\n",
    "The variance is a numeric value used to describe the degree of spread in a distribution of the numbers.\n",
    "\n",
    ">Check: what is the formula for variance?\n",
    "\n",
    "The average of the sum of the squared distances of each number from the mean of the numbers.\n",
    "\n",
    "In Python variance can be calculated with:\n",
    "```python\n",
    "variance = []\n",
    "n_mean = np.mean(n)\n",
    "\n",
    "for n_ in n:\n",
    "  variance.append((n_ - n_mean) ** 2)\n",
    "\n",
    "variance = np.sum(variance)\n",
    "variance = variance / len(n)\n",
    "```\n",
    "\n",
    "In Python variance can be calculated with:\n",
    "```python\n",
    "variance = []\n",
    "n_mean = np.mean(n)\n",
    "\n",
    "for n_ in n:\n",
    "  variance.append((n_ - n_mean) ** 2)\n",
    "\n",
    "variance = np.sum(variance)\n",
    "variance = variance / len(n)\n",
    "```\n",
    "\n",
    "Which is the average of the sum of the squared distances of each number from the mean of the numbers.\n",
    "\n",
    "![](assets/images/dist_with_variance.png)\n",
    "\n",
    "**Check:** What could a distribution with a large variance look like? A small?\n",
    "\n",
    "**Check:** What does a variance of 0 mean?\n",
    "\n",
    "Using `numpy` the variance is simply:\n",
    "```python\n",
    "variance = np.var(n)\n",
    "\n",
    "print(variance)\n",
    "9414.6475\n",
    "```\n",
    "\n"
   ]
  },
  {
   "cell_type": "markdown",
   "metadata": {},
   "source": [
    "#### Standard deviation\n",
    "\n",
    "The standard deviation is the square root of the variance.\n",
    "\n",
    "Because the variance is the average of the distances from the mean _squared_, the standard deviation tells us approximately, on average, the distance of numbers in a distribution from the mean of the distribution.\n",
    "\n",
    "The standard deviation can be calculated like so:\n",
    "```python\n",
    "std = np.std(n)\n",
    "\n",
    "print(std)\n",
    "97.029106457804716\n",
    "```\n",
    "\n",
    "![](assets/images/dist_with_var_std.png)\n"
   ]
  },
  {
   "cell_type": "code",
   "execution_count": null,
   "metadata": {
    "collapsed": true
   },
   "outputs": [],
   "source": []
  }
 ],
 "metadata": {
  "anaconda-cloud": {},
  "kernelspec": {
   "display_name": "Python 2",
   "language": "python",
   "name": "python2"
  },
  "language_info": {
   "codemirror_mode": {
    "name": "ipython",
    "version": 2
   },
   "file_extension": ".py",
   "mimetype": "text/x-python",
   "name": "python",
   "nbconvert_exporter": "python",
   "pygments_lexer": "ipython2",
   "version": "2.7.13"
  }
 },
 "nbformat": 4,
 "nbformat_minor": 1
}
