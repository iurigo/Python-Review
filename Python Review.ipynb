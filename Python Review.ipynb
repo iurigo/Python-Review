{
 "cells": [
  {
   "cell_type": "markdown",
   "metadata": {},
   "source": [
    "# Python Review\n"
   ]
  },
  {
   "cell_type": "code",
   "execution_count": 2,
   "metadata": {},
   "outputs": [
    {
     "name": "stdout",
     "output_type": "stream",
     "text": [
      "The Zen of Python, by Tim Peters\n",
      "\n",
      "Beautiful is better than ugly.\n",
      "Explicit is better than implicit.\n",
      "Simple is better than complex.\n",
      "Complex is better than complicated.\n",
      "Flat is better than nested.\n",
      "Sparse is better than dense.\n",
      "Readability counts.\n",
      "Special cases aren't special enough to break the rules.\n",
      "Although practicality beats purity.\n",
      "Errors should never pass silently.\n",
      "Unless explicitly silenced.\n",
      "In the face of ambiguity, refuse the temptation to guess.\n",
      "There should be one-- and preferably only one --obvious way to do it.\n",
      "Although that way may not be obvious at first unless you're Dutch.\n",
      "Now is better than never.\n",
      "Although never is often better than *right* now.\n",
      "If the implementation is hard to explain, it's a bad idea.\n",
      "If the implementation is easy to explain, it may be a good idea.\n",
      "Namespaces are one honking great idea -- let's do more of those!\n"
     ]
    }
   ],
   "source": [
    "import this"
   ]
  },
  {
   "cell_type": "markdown",
   "metadata": {},
   "source": [
    "### Information provided are sourced from various tutorial sites as referenced below.***"
   ]
  },
  {
   "cell_type": "markdown",
   "metadata": {},
   "source": [
    "### Python Data Types\n",
    "Python has various data types that are used to define the operations possible on them and the storage method for each of them.\n",
    "\n",
    "Five standard data types in Python−\n",
    "1. Numbers: \n",
    "    - int\n",
    "    - float\n",
    "    - long\n",
    "    - complex\n",
    "2. String\n",
    "3. List: Contains items separated by commas and enclosed within square brackets ([])\n",
    "4. Tuple: Similar to the list with values separated by commas. Unlike lists, tuples are enclosed within parentheses and the elements in  tuple cannot be changed.\n",
    "5. Dictionary: Contains key, value pairs enclosed by {} curly brackets. Keys are immutable."
   ]
  },
  {
   "cell_type": "code",
   "execution_count": null,
   "metadata": {
    "collapsed": true
   },
   "outputs": [],
   "source": [
    "a = 1\n",
    "b = 2.6\n",
    "c = [1,2,3,5,6]\n",
    "d = {'mike':'roman', 'adam':'blomberg'}\n",
    "e = ('one', 'two', 'three')\n",
    "f = {1:{'key':'value'}, 2:{'key2':'value2'}}\n",
    "g = True\n",
    "h = False\n",
    "i = 'integer'"
   ]
  },
  {
   "cell_type": "code",
   "execution_count": 121,
   "metadata": {
    "collapsed": true
   },
   "outputs": [],
   "source": [
    "#Numbers, Strings & Booleans\n",
    "nums = [1, 4, 7, 3, 8, 4, 7, 2, 5, 6, 7, 3, 6, 4 , 5, 2, 3]\n",
    "strings = ['f', 'w', 'c', 'b', 'n', 'q', 'f', 'd', 'b', 'i', 'o', 'q', 'a']\n",
    "boolean = [True, True, False, False, False, True, True, False, True, False, False, False]\n",
    "\n",
    "nums = [1, 4, 7, 3, 8, 4, 7, 2, 5, 6, 7, 3, 6, 4 , 5, 2, 3]\n",
    "boolean = [True, True, False, False, False, True, True, False, True, False, False, False]\n",
    "letters = ['f', 'w', 'c', 'b', 'n', 'q', 'f', 'd', 'b', 'i', 'o', 'q', 'a']\n",
    "\n",
    "# put in order, numerically or alphabetically\n",
    "sorted(nums)\n",
    "sorted(letters)\n",
    "\n",
    "# find unique values (result is a dictionary)\n",
    "## NOTE: need to turn this object into a list to use in a workflow\n",
    "set(nums)\n",
    "set(letters)\n",
    "\n",
    "# counting\n",
    "len(nums)\n",
    "nums.count(7)                 # = 3. Returns the number of times 7 occurs in nums\n",
    "\n",
    "# add all the values\n",
    "sum(nums)\n",
    "sum(boolean)                  # True = 1, False = 0. This will give the number of True values in a list\n",
    "\n",
    "# check types\n",
    "type(nums)                    # a list\n",
    "type(nums[0])                 # an int\n",
    "type(boolean[0])              # a bool\n",
    "type(letters[0])              # a str\n",
    "\n",
    "isinstance(nums, list)        # True\n",
    "isinstance(nums[0], list)     # False\n",
    "isinstance(boolean[0], int)   # True (this is a special case)\n",
    "\n",
    "#Python Strings\n",
    "str = 'Hello World!'\n",
    "\n",
    "print str          # Prints complete string\n",
    "print str[0]       # Prints first character of the string\n",
    "print str[2:5]     # Prints characters starting from 3rd to 5th\n",
    "print str[2:]      # Prints string starting from 3rd character\n",
    "print str * 2      # Prints string two times\n",
    "print str + \"Alex\" # Prints concatenated string\n",
    "\n",
    "\n",
    "#Python Lists\n",
    "list = [ 'abcd', 786 , 2.23, 'john', 70.2 ]\n",
    "tinylist = [123, 'john']\n",
    "\n",
    "print list          # Prints complete list\n",
    "print list[0]       # Prints first element of the list\n",
    "print list[1:3]     # Prints elements starting from 2nd till 3rd \n",
    "print list[2:]      # Prints elements starting from 3rd element\n",
    "print tinylist * 2  # Prints list two times\n",
    "print list + tinylist # Prints concatenated lists\n",
    "\n",
    "\n",
    "#Python Tuples\n",
    "tuple = ( 'abcd', 786 , 2.23, 'john', 70.2  )\n",
    "tinytuple = (123, 'john')\n",
    "\n",
    "print tuple           # Prints complete list\n",
    "print tuple[0]        # Prints first element of the list\n",
    "print tuple[1:3]      # Prints elements starting from 2nd till 3rd \n",
    "print tuple[2:]       # Prints elements starting from 3rd element\n",
    "print tinytuple * 2   # Prints list two times\n",
    "print tuple + tinytuple # Prints concatenated lists\n",
    "\n",
    "\n",
    "#Python Dictionaries\n",
    "dict = {}\n",
    "dict['one'] = \"Hellow\"\n",
    "dict[2]     = \"World\"\n",
    "tinydict = {'name': 'john','code':6734, 'dept': 'sales'}\n",
    "\n",
    "print dict['one']       # Prints value for 'one' key\n",
    "print dict[2]           # Prints value for 2 key\n",
    "print tinydict          # Prints complete dictionary\n",
    "print tinydict.keys()   # Prints all the keys\n",
    "print tinydict.values() # Prints all the values"
   ]
  },
  {
   "cell_type": "code",
   "execution_count": 122,
   "metadata": {
    "collapsed": true
   },
   "outputs": [],
   "source": [
    "#Data Type Conversion\n",
    "x = 10\n",
    "int(x) #Converts x to an integer.\n",
    "float(x) #Converts x to a float.\n",
    "str(x) #Converts x to a string\n",
    "tuple(y) #Converts y to a tuple\n",
    "list(y) #Converts y to a list\n",
    "dict(d) #Creates a dictionary. d must be a sequence of (key,value) tuples."
   ]
  },
  {
   "cell_type": "markdown",
   "metadata": {},
   "source": [
    "### Python Operators\n",
    "Python supports the following main types of operators.\n",
    "- Arithmetic Operators\n",
    "- Comparison Operators\n",
    "- Assignment Operators\n",
    "- Logical Operators\n",
    "- Membership Operators"
   ]
  },
  {
   "cell_type": "code",
   "execution_count": 123,
   "metadata": {
    "collapsed": true
   },
   "outputs": [],
   "source": [
    "#Python Arithmetic Operators\n",
    "4 + 3     # = 7\n",
    "4 - 3     # = 1\n",
    "4 * 3     # = 12\n",
    "4 / 3     # = 1 (no remainder, returns the whole value)\n",
    "4 / 3.0   # = 1.333 (must turn one value into a float)\n",
    "4 % 2     # = 1. Modulo shows the remainder of the division\n",
    "4 ** 3    # = 64. 4 to the power of 3\n",
    "4 ** 0.5  # = 2. This is the same as the square root of 4\n",
    "\n",
    "#Python Comparison Operators\n",
    "10==20   #If the two values are equal, then return true.\n",
    "10!=20   #If the two values are not equal, then return true.\n",
    "10>20    #If values greater than the other, then return true.\n",
    "10<20    #If value is less than the other, then return true.\n",
    "10>=20   #If value is greater than or equal to the other, then return true.\n",
    "10<=20   #If value is less than or equal to the other, then return true.\n",
    "\n",
    "#Python Assignment Operators\n",
    "=   # c = a + b assigns value of a + b into c\n",
    "+=  # c += a is equivalent to c = c + a\n",
    "-=  # c += a is equivalent to c = c - a\n",
    "*=  # c *= a is equivalent to c = c * a\n",
    "%=  # c c %= a is equivalent to c = c % a\n",
    "**= # c **= a is equivalent to c = c ** a\n",
    "\n",
    "#Python Logical Operators\n",
    "and # If both expressions are true then condition becomes true.\n",
    "or # If any of the expressions is true, then condition becomes true.\n",
    "not # Used to reverse the logical state of the expression.\n",
    "\n",
    "#Python Membership Operators - Tests for membership in a sequence, such as strings, lists, or tuples.\n",
    "in # Evaluates to true if it finds a variable in the specified sequence and false otherwise.\n",
    "not in # Evaluates to true if it does not finds a variable in the specified sequence and false otherwise."
   ]
  },
  {
   "cell_type": "markdown",
   "metadata": {},
   "source": [
    "### If, Elif, Else\n",
    "\n",
    "Evaluates multiple expressions which produce TRUE or FALSE outcomes. Can determine which action to take and which statements to execute if outcome is TRUE or FALSE. Evaluates each statement in the order provided until an expression is executed."
   ]
  },
  {
   "cell_type": "code",
   "execution_count": 126,
   "metadata": {
    "collapsed": true
   },
   "outputs": [],
   "source": [
    "If, Elif, Else Syntax\n",
    "if expression1:\n",
    "   statement(s)\n",
    "elif expression2:\n",
    "   statement(s)\n",
    "elif expression3:\n",
    "   statement(s)\n",
    "else:\n",
    "   statement(s)\n",
    "\n",
    "#If, Elif, Else Example\n",
    "var = 100\n",
    "if var == 200:\n",
    "   print \"1 - Got a true expression value\"\n",
    "   print var\n",
    "elif var == 150:\n",
    "   print \"2 - Got a true expression value\"\n",
    "   print var\n",
    "elif var == 100:\n",
    "   print \"3 - Got a true expression value\"\n",
    "   print var\n",
    "else:\n",
    "   print \"4 - Got a false expression value\"\n",
    "   print var\n",
    "\n",
    "print \"Done!\"\n",
    "\n",
    "#Nested Statements Syntax - Can have an if...elif...else construct inside another if...elif...else construct.\n",
    "if expression1:\n",
    "   statement(s)\n",
    "   if expression2:\n",
    "      statement(s)\n",
    "   elif expression3:\n",
    "      statement(s)\n",
    "   else:\n",
    "      statement(s)\n",
    "elif expression4:\n",
    "   statement(s)\n",
    "else:\n",
    "   statement(s)\n",
    "\n",
    "#Nested Statements Example\n",
    "var = 100\n",
    "if var < 200:\n",
    "   print \"Expression value is less than 200\"\n",
    "   if var == 150:\n",
    "      print \"Which is 150\"\n",
    "   elif var == 100:\n",
    "      print \"Which is 100\"\n",
    "   elif var == 50:\n",
    "      print \"Which is 50\"\n",
    "elif var < 50:\n",
    "   print \"Expression value is less than 50\"\n",
    "else:\n",
    "   print \"Could not find true expression\"\n",
    "\n",
    "print \"Done!\""
   ]
  },
  {
   "cell_type": "markdown",
   "metadata": {},
   "source": [
    "### Loops\n",
    "A loop statement executes a statement or group of statements multiple times.\n",
    "Loop Types:\n",
    "- while loop: Repeats a statement or group of statements while a given condition is TRUE\n",
    "- for loop: Executes a sequence of statements multiple times and abbreviates the code that manages the loop variable.\n",
    "\n",
    "Loop Control Statements:\n",
    "- break: Terminates the loop statement and transfers execution to the statement immediately following the loop"
   ]
  },
  {
   "cell_type": "code",
   "execution_count": 127,
   "metadata": {
    "collapsed": true
   },
   "outputs": [],
   "source": [
    "#While Loop - repeatedly executes a target statement as long as a given condition is true. \n",
    "#When the condition becomes false, program passes to the line immediately following the loop.\n",
    "count = 0\n",
    "while (count < 9):\n",
    "    print 'The count is:', count\n",
    "    count = count + 1\n",
    "\n",
    "print \"Good bye!\"\n",
    "\n",
    "#For loop - iterates over the items of any sequence, such as a list or a string.\n",
    "for letter in 'Python':     # First Example\n",
    "    print 'Current Letter :', letter\n",
    "\n",
    "fruits = ['banana', 'apple',  'mango']\n",
    "for fruit in fruits:        # Second Example\n",
    "    print 'Current fruit :', fruit\n",
    "\n",
    "print \"Good bye!\"\n",
    "\n",
    "#For loop over index\n",
    "fruits = ['banana', 'apple',  'mango']\n",
    "for index in range(len(fruits)):\n",
    "    print 'Current fruit :', fruits[index]\n",
    "\n",
    "print \"Good bye!\"\n",
    "\n",
    "#Break\n",
    "for letter in 'Python':     # First Example\n",
    "    if letter == 'h':\n",
    "        break\n",
    "    print 'Current Letter :', letter\n",
    "\n",
    "var = 10                    # Second Example\n",
    "while var > 0:              \n",
    "    print 'Current variable value :', var\n",
    "    var = var -1\n",
    "    if var == 5:\n",
    "        break\n",
    "\n",
    "print \"Good bye!\""
   ]
  },
  {
   "cell_type": "markdown",
   "metadata": {},
   "source": [
    "### Numbers: Built-in Mathematical Functions"
   ]
  },
  {
   "cell_type": "code",
   "execution_count": 128,
   "metadata": {
    "collapsed": true
   },
   "outputs": [],
   "source": [
    "abs(x) #The absolute value of x: the (positive) distance between x and zero.\n",
    "max(x1, x2) #The largest of its arguments: the value closest to positive infinity\n",
    "min(x1, x2) #The smallest of its arguments: the value closest to positive infinity\n",
    "sqrt(x1) #The square root of x for x > 0"
   ]
  },
  {
   "cell_type": "markdown",
   "metadata": {},
   "source": [
    "### Strings"
   ]
  },
  {
   "cell_type": "code",
   "execution_count": null,
   "metadata": {
    "collapsed": true
   },
   "outputs": [],
   "source": [
    "#Special String Operators\n",
    "a = Hello\n",
    "b = World\n",
    "\n",
    "a + b #HelloWorld\n",
    "a*2 #HelloHello\n",
    "a[2] #Returns l\n",
    "H in a #Returns true\n",
    "H not in a #Returns false"
   ]
  },
  {
   "cell_type": "code",
   "execution_count": 129,
   "metadata": {
    "collapsed": true
   },
   "outputs": [],
   "source": [
    "#Built-in String Methods\n",
    "capitalize #Capitalizes first letter of string\n",
    "len(string) #Returns length of string\n",
    "lower(string) #Converts all uppercase letters in string to lowercase.\n",
    "replace(old,new) #Replaces all occurrences of old in string with new\n",
    "rstrip(string) #Removes all trailing whitespace of string.\n",
    "split(str=\"\") #Splits string according to delimiter str\n",
    "splitlines('\\n') #Splits string at all NEWLINEs and returns a list of each line with NEWLINEs removed.\n",
    "title() #Returns all words begin with uppercase and the rest are lowercase.\n",
    "upper() #Converts lowercase letters in string to uppercase.\n",
    "\n",
    "# modifying strings\n",
    "long_string = 'fd A,beR^q iU543 v@W@@bw9 a.h,w 6,w4.H b6,4w.,5aF,g. 5ea.4g, eaSDG.av!43 qy5%4qyBFSb5q4y'\n",
    "\n",
    "long_string.split()             # split string into list, default is to split on space (' ')\n",
    "long_string.split(',')          # split string based on ','\n",
    "long_string.split('h')          # split string based on 'h'\n",
    "\n",
    "long_string.replace('e', '4')   # replace 'e' with a '4' in every instance of string\n",
    "\n",
    "long_string.capitalize()        # capitalize first letter of string\n",
    "long_string.title()             # capitalize every letter after a space\n",
    "long_string.upper()             # capitalize every letter\n",
    "long_string.lower()             # lower every letter"
   ]
  },
  {
   "cell_type": "markdown",
   "metadata": {},
   "source": [
    "### Lists"
   ]
  },
  {
   "cell_type": "code",
   "execution_count": null,
   "metadata": {
    "collapsed": true
   },
   "outputs": [],
   "source": [
    "#Creating Lists - List Indices start at 0\n",
    "list1 = ['physics', 'chemistry', 1997, 2000];\n",
    "list2 = [1, 2, 3, 4, 5 ];\n",
    "list3 = [\"a\", \"b\", \"c\", \"d\"]\n",
    "\n",
    "range(5)          # preset to start at 0, it will increase by 1 to 4 (5 is exclusive, but the length will be 5)\n",
    "range(2, 7)       # creates a list of integers increasing from 2 to 6\n",
    "range(2, 57, 3)   # create a list from 2 to 56 increasing by 3 each time\n",
    "\n",
    "#Accessing Lists\n",
    "print \"list1[0]: \", list1[0]\n",
    "print \"list2[1:5]: \", list2[1:5]\n",
    "\n",
    "#Updating List Values\n",
    "print list1[2]\n",
    "print list1[2] = 2001\n",
    "print list1[2]\n",
    "\n",
    "#Modifying/Adding List Elements\n",
    "list1.append(3000)\n",
    "print list1\n",
    "\n",
    "# modifying lists\n",
    "nums.insert(0, 5)     # insert a 5 at the 0th index (start of list)\n",
    "nums.append(6)        # add a 4 to the end of the list\n",
    "nums.append([4, 5])   # adds a list [4, 5] to the end of nums\n",
    "nums.pop()            # remove the last element from the list and return it\n",
    "nums.remove(5)        # removes all of the 5s from list\n",
    "del nums[0]           # delete element by index\n",
    "del nums[-1]          # delete last element (does not get returned)\n",
    "\n",
    "# modifying lists\n",
    "letters * 2           # copy and paste the list after itself\n",
    "letters + ['the']     # add a list to a list\n",
    "\n",
    "','.join(letters)     # create one element from all elements in list, joined on ','\n",
    "\n",
    "#Deleting List Elements\n",
    "print list1\n",
    "del list1[2]\n",
    "print list1\n",
    "\n",
    "#List Operators\n",
    "Python Expression\n",
    "print len([1, 2, 3])                       #Result is 3\n",
    "print [1, 2, 3] + [4, 5, 6]                #Results is 1 list with the 6 elements\n",
    "print ['Hi!'] * 4                          #Results in a list of 4 Hi!s ['Hi!', 'Hi!', 'Hi!', 'Hi!']\n",
    "print 3 in [1, 2, 3]                       #Results in a True boolean\n",
    "print for x in [1, 2, 3]: print x          #Results in a print of the three numbers in each return line"
   ]
  },
  {
   "cell_type": "markdown",
   "metadata": {},
   "source": [
    "### Built-in Python List Functions"
   ]
  },
  {
   "cell_type": "code",
   "execution_count": 131,
   "metadata": {
    "collapsed": true
   },
   "outputs": [],
   "source": [
    "mylist = [1,2,3,4,5,6,7,8,9,10]\n",
    "x = [1,2,3,4,5,6,7,8,9,10]\n",
    "\n",
    "print len(mylist)                       # Gives the total length of the list.\n",
    "print max(mylist)                       # Gives the max value of list.\n",
    "print min(mylist)                       # Gives the min value of list.\n",
    "print list(x)                           # Converts a tuple into a list."
   ]
  },
  {
   "cell_type": "markdown",
   "metadata": {},
   "source": [
    "\n",
    "### Built-in Python List Methods"
   ]
  },
  {
   "cell_type": "code",
   "execution_count": null,
   "metadata": {
    "collapsed": true
   },
   "outputs": [],
   "source": [
    "mylist = [1,2,3,4,5,6,7,8,9,10]\n",
    "y = 15\n",
    "z = (3,5)\n",
    "print mylist.append(y)                  # Appends y to list\n",
    "print mylist.count(1)                   # Returns count of how many times 1 appears in list\n",
    "print mylist.extend(z)                  # Appends contents of z to list\n",
    "print mylist.index(y)                   # Finds the index of the first occurence of y\n",
    "print mylist.remove(y)                  # Removes y from list\n",
    "print mylist.reverse()                  # Reverses list"
   ]
  },
  {
   "cell_type": "markdown",
   "metadata": {},
   "source": [
    "### Tuples\n",
    "A tuple is a sequence of immutable Python objects. Tuples are sequences, just like lists. The differences between tuples and lists are, the tuples cannot be changed unlike lists and tuples use parentheses, whereas lists use square brackets."
   ]
  },
  {
   "cell_type": "code",
   "execution_count": 132,
   "metadata": {
    "collapsed": true
   },
   "outputs": [],
   "source": [
    "#Creating Tuples - Tuple indices start at 0\n",
    "tup1 = ('physics', 'chemistry', 1997, 2000)\n",
    "tup2 = (1, 2, 3, 4, 5, 10)\n",
    "tup1 = () #empty tuple\n",
    "tup6 = (1,2,3) + (5,6,7)\n",
    "print tup6\n",
    "\n",
    "#Accessing Values in Tuples\n",
    "print tup1[0]\n",
    "print tup2[1:3]\n",
    "\n",
    "#Updating Tuples - tuples are immuatble (cannot update or change the values of tuple elements)\n",
    "#To take portions of existing tuples, will need to create a new tuple\n",
    "tup3 = tup1 + tup2\n",
    "print tup3\n",
    "\n",
    "# #Deleting Tuples - because tuples are immutable, removing individual tuple elements is not possible\n",
    "# #Will have to create a new tuple in order to delete a tuple element\"\"\"\n",
    "tup4 = ('physics', 'chemistry', 1997, 2000);\n",
    "print tup4\n",
    "# #del tup4\n",
    "# #print tup4\n",
    "\n",
    "# #Tuple Operators\n",
    "print len((1, 2, 3)                        #Result is 3\n",
    "print tup6 = (1,2,3) + (5,6,7)             #Adds 2 tuples together\n",
    "print ('Hi!') * 4                          #Results in a list of 4 Hi!s ['Hi!', 'Hi!', 'Hi!', 'Hi!']\n",
    "print 3 in (1, 2, 3)                       #Results in a True boolean\n",
    "print for x in (1, 2, 3): print x          #Results in a print of the three numbers in each return line"
   ]
  },
  {
   "cell_type": "markdown",
   "metadata": {},
   "source": [
    "### Built-in Tuple Functions"
   ]
  },
  {
   "cell_type": "code",
   "execution_count": 133,
   "metadata": {
    "collapsed": true
   },
   "outputs": [],
   "source": [
    "mylist = (1,2,3,4,5,6,7,8,9,10)\n",
    "x = [1,2,3,4,5,6,7,8,9,10]\n",
    "print len(mylist)                       # Gives the total length of the list.\n",
    "print max(mylist)                       # Gives the max value of list.\n",
    "print min(mylist)                       # Gives the min value of list.\n",
    "print tuple(x)                          # Converts a list into a tuple."
   ]
  },
  {
   "cell_type": "markdown",
   "metadata": {},
   "source": [
    "### Dictionaries"
   ]
  },
  {
   "cell_type": "code",
   "execution_count": 134,
   "metadata": {
    "collapsed": true
   },
   "outputs": [],
   "source": [
    "#Accessing values in Dictionaries\n",
    "dict = {'Name': 'Zara', 'Age': 7, 'Class': 'First'}\n",
    "print dict\n",
    "\n",
    "print dict['Name']\n",
    "print dict['Age']\n",
    "\n",
    "#Updating Dictionary\n",
    "dict['Age'] = 8\n",
    "print dict['Age']\n",
    "\n",
    "#Adding new entry into Dictionary\n",
    "dict['School'] = \"DPS School\"\n",
    "print dict['School']\n",
    "\n",
    "#Deleting Dictionary elements\n",
    "# del dict['Name']              # removes entry with key 'Name'\n",
    "# dict.clear()                  # removes all entries in dict\n",
    "# del dict                      # deletes entire dictionary\n",
    "\n",
    "print dict['Age']\n",
    "print dict['School']"
   ]
  },
  {
   "cell_type": "markdown",
   "metadata": {},
   "source": [
    "### Built-in Dictionary Functions"
   ]
  },
  {
   "cell_type": "code",
   "execution_count": 135,
   "metadata": {
    "collapsed": true
   },
   "outputs": [],
   "source": [
    "dict = {'Name': 'Zara', 'Age': 7, 'Class': 'First'}\n",
    "print len(dict) #Gives the total length of the dictionary.\n",
    "print str(dict) #Produces a printable string representation of a dictionary\n",
    "print type(dict) #Returns the type of the passed variable."
   ]
  },
  {
   "cell_type": "markdown",
   "metadata": {},
   "source": [
    "### Built-in Dictionary Methods"
   ]
  },
  {
   "cell_type": "code",
   "execution_count": 136,
   "metadata": {
    "collapsed": true
   },
   "outputs": [],
   "source": [
    "dict1 = {'Name': 'Zara', 'Age': 7, 'Class': 'First'}\n",
    "dict2 = {'City': 'New York', 'State': 'New York', 'Country': 'US'}\n",
    "print dict1\n",
    "print dict2\n",
    "\n",
    "print dict1.items() #Returns a list of the dictionary's key and values as tuple pairs (key, value)\n",
    "print dict1.keys() #Returns list of dictionary's keys\n",
    "print dict1.values() #Returns list of dictionary's values\n",
    "print dict1.update(dict2) #Adds dictionary dict2's key-values pairs to dict\n",
    "print dict1.copy() #Returns a shallow copy of dictionary\n",
    "print dict1.fromkeys(dict) #Creates a new dictionary with keys from dictionary and values set to value.\n",
    "print dict1.has_key('Name') #Returns true if key in dictionary, false otherwise"
   ]
  },
  {
   "cell_type": "markdown",
   "metadata": {},
   "source": [
    "### User-Defined Functions\n",
    "A user-defined function is a block of organized, reusable code that is used to perform a single, related action.\n",
    "Basic structure of function starts with def, then the name of the function then the parameters within the parentheses then a colon then an indent and the block of code to be executed by function"
   ]
  },
  {
   "cell_type": "code",
   "execution_count": 137,
   "metadata": {
    "collapsed": true
   },
   "outputs": [],
   "source": [
    "#Basic structure of user-defined functions\n",
    "def name(x):\n",
    "    return x\n",
    "name('Yellow')"
   ]
  },
  {
   "cell_type": "markdown",
   "metadata": {},
   "source": [
    "### Anonymous Functions\n",
    "These functions are called anonymous because they are not declared in the standard manner by using the def keyword. \n",
    "\n",
    "Can use the lambda keyword to create small anonymous functions. Lambda forms can take any number of arguments but return just one value in the form of an expression. "
   ]
  },
  {
   "cell_type": "code",
   "execution_count": 138,
   "metadata": {
    "collapsed": true
   },
   "outputs": [],
   "source": [
    "#Lamba Functions - Syntax\n",
    "#The syntax of lambda functions contains only a single statement\n",
    "sum = lambda arg1, arg2: arg1 + arg2;\n",
    "\n",
    "print \"Value of total: \", sum(10, 20)\n",
    "print \"Value of total: \", sum(20, 20)"
   ]
  },
  {
   "cell_type": "markdown",
   "metadata": {},
   "source": [
    "## Nested For Loops"
   ]
  },
  {
   "cell_type": "code",
   "execution_count": 1,
   "metadata": {},
   "outputs": [
    {
     "name": "stdout",
     "output_type": "stream",
     "text": [
      "[1, 2, 3]\n",
      "['a', 'b', 'c']\n",
      "['Donna', 'Alex', 'Ryan']\n"
     ]
    }
   ],
   "source": [
    "list_of_lists = [[1, 2, 3], ['a', 'b', 'c'], ['Donna', 'Alex', 'Ryan']]\n",
    "\n",
    "# one level\n",
    "for i in list_of_lists:\n",
    "    print i\n"
   ]
  },
  {
   "cell_type": "code",
   "execution_count": 7,
   "metadata": {},
   "outputs": [
    {
     "name": "stdout",
     "output_type": "stream",
     "text": [
      "1\n",
      "2\n",
      "3\n",
      "a\n",
      "b\n",
      "c\n",
      "Donna\n",
      "Alex\n",
      "Ryan\n"
     ]
    }
   ],
   "source": [
    "# go deeper!\n",
    "\n",
    "for i in list_of_lists:\n",
    "    for j in i:\n",
    "        print j\n"
   ]
  },
  {
   "cell_type": "code",
   "execution_count": 4,
   "metadata": {},
   "outputs": [
    {
     "data": {
      "text/plain": [
       "[(0, 'Donna'),\n",
       " (1, 'Alex'),\n",
       " (2, 'Ryan'),\n",
       " (3, 'Fred'),\n",
       " (4, 'George'),\n",
       " (5, 'Homer'),\n",
       " (6, 'Bart')]"
      ]
     },
     "execution_count": 4,
     "metadata": {},
     "output_type": "execute_result"
    }
   ],
   "source": [
    "# enumerate will give you a tuple = (index, value)\n",
    "\n",
    "names = ('Donna', 'Alex', 'Ryan', 'Fred', 'George', 'Homer', 'Bart')\n",
    "\n",
    "names_enum = list(enumerate(names))\n",
    "names_enum"
   ]
  },
  {
   "cell_type": "code",
   "execution_count": 5,
   "metadata": {},
   "outputs": [
    {
     "name": "stdout",
     "output_type": "stream",
     "text": [
      "(0, 'Donna')\n",
      "(1, 'Alex')\n",
      "(2, 'Ryan')\n",
      "(3, 'Fred')\n",
      "(4, 'George')\n",
      "(5, 'Homer')\n",
      "(6, 'Bart')\n"
     ]
    }
   ],
   "source": [
    "# you can loop through the number and element in an enumeratured list\n",
    "\n",
    "for i, v in names_enum:\n",
    "    print (i, v)"
   ]
  },
  {
   "cell_type": "markdown",
   "metadata": {},
   "source": [
    "## List Comprehension\n",
    "** Shorten your for loops! **\n"
   ]
  },
  {
   "cell_type": "markdown",
   "metadata": {},
   "source": [
    "![title](list-comprehension-condition.gif)"
   ]
  },
  {
   "cell_type": "markdown",
   "metadata": {},
   "source": [
    "source: http://treyhunner.com/2015/12/python-list-comprehensions-now-in-color/"
   ]
  },
  {
   "cell_type": "code",
   "execution_count": 14,
   "metadata": {},
   "outputs": [
    {
     "name": "stdout",
     "output_type": "stream",
     "text": [
      "[2, 6, 10]\n",
      "[2, 6, 10]\n"
     ]
    }
   ],
   "source": [
    "# example in code:\n",
    "\n",
    "numbers = [1, 2, 3, 4, 5]\n",
    "\n",
    "doubled_odds = []\n",
    "for n in numbers:\n",
    "    if n % 2 == 1:\n",
    "        doubled_odds.append(n * 2)\n",
    "        \n",
    "print doubled_odds\n",
    "\n",
    "doubled_odds_comp = [n * 2 for n in numbers if n % 2 == 1]\n",
    "\n",
    "print doubled_odds_comp"
   ]
  },
  {
   "cell_type": "markdown",
   "metadata": {},
   "source": [
    "## Iterators and Generators\n",
    "** Iterators **\n",
    "\n",
    "Iterators are the backbones of all for loops. In order to go through each element in a list, a tuple, a string, a dictionary, or a file, the object needs to be **iterable**. Under the hood, a for loop turns that object into an iterable object. But this conversion can be done maually as well with the iter function.\n"
   ]
  },
  {
   "cell_type": "code",
   "execution_count": null,
   "metadata": {
    "collapsed": true
   },
   "outputs": [],
   "source": [
    "def sq_iter(x):\n",
    "    squares = []\n",
    "    for i in range(x):\n",
    "        squares.append(i ** 2)\n",
    "    return squares\n",
    "\n",
    "# create a list of numbers\n",
    "squares = sq_iter(100)\n",
    "\n",
    "squares_iter = iter(squares)\n",
    "squares_iter\n",
    "# see that nums_iter cannot be printed the elements"
   ]
  },
  {
   "cell_type": "code",
   "execution_count": null,
   "metadata": {
    "collapsed": true
   },
   "outputs": [],
   "source": [
    "# Run this multiple times and see how the output changes.\n",
    "print squares_iter.next()"
   ]
  },
  {
   "cell_type": "code",
   "execution_count": null,
   "metadata": {
    "collapsed": true
   },
   "outputs": [],
   "source": [
    "# print remaining numbers in the iterable object\n",
    "print list(squares_iter)"
   ]
  },
  {
   "cell_type": "markdown",
   "metadata": {},
   "source": [
    "** Generators **\n",
    "\n",
    "Generators are special types of iterators. They do the same thing, but instead of holding the entire list in memory, a new generator object is stored and the next element in that list is callable one at a time. That means very large objects, such as an infinite list, can be used in for loops.\n",
    "\n",
    "To create a generator object, you must **yield** the item instead of return the item in the list creation. The yield statement can only be used inside function definitions and if used, will always return a generator object."
   ]
  },
  {
   "cell_type": "code",
   "execution_count": null,
   "metadata": {
    "collapsed": true
   },
   "outputs": [],
   "source": [
    "## See an iterator that will fail\n",
    "\n",
    "squares_long = sq_iter(1000000000000)\n",
    "\n",
    "# This will break your kernel. Must restart and clear all outputs"
   ]
  },
  {
   "cell_type": "code",
   "execution_count": null,
   "metadata": {
    "collapsed": true
   },
   "outputs": [],
   "source": [
    "def sq_gen(x):\n",
    "    squares = 0\n",
    "    while squares < x:\n",
    "        yield squares ** 2\n",
    "        squares += 1\n",
    "\n",
    "a = sq_gen(1000000000000)\n",
    "\n",
    "# see that this is a generator object, not a list\n",
    "a"
   ]
  },
  {
   "cell_type": "code",
   "execution_count": null,
   "metadata": {
    "collapsed": true
   },
   "outputs": [],
   "source": [
    "# run this over and over to see how output changes\n",
    "a.next()"
   ]
  },
  {
   "cell_type": "code",
   "execution_count": null,
   "metadata": {
    "collapsed": true
   },
   "outputs": [],
   "source": [
    "# can also create a generator object with a generator comprehension\n",
    "# similar to list comprehension, but this uses () instead of []\n",
    "\n",
    "b = (x ** 2 for x in range(100))\n",
    "\n",
    "# see that this is a generator object\n",
    "b"
   ]
  },
  {
   "cell_type": "code",
   "execution_count": null,
   "metadata": {
    "collapsed": true
   },
   "outputs": [],
   "source": [
    "# run this over and over to see how output changes\n",
    "b.next()"
   ]
  },
  {
   "cell_type": "code",
   "execution_count": null,
   "metadata": {
    "collapsed": true
   },
   "outputs": [],
   "source": [
    "## See a generator object that is infinitely long\n",
    "# this while loop will never end, but it is OK because I used yield\n",
    "\n",
    "def fib():\n",
    "    a, b = 0, 1\n",
    "    while True:\n",
    "        yield a\n",
    "        a, b = b, a + b\n",
    "\n",
    "fib_gen = fib()\n",
    "fib_gen"
   ]
  },
  {
   "cell_type": "code",
   "execution_count": null,
   "metadata": {
    "collapsed": true
   },
   "outputs": [],
   "source": [
    "# run this multiple times to see how output changes\n",
    "\n",
    "next(fib_gen)"
   ]
  },
  {
   "cell_type": "code",
   "execution_count": null,
   "metadata": {
    "collapsed": true,
    "scrolled": true
   },
   "outputs": [],
   "source": [
    "# print remaining numbers in the generator object\n",
    "\n",
    "list(fib_gen)\n",
    "\n",
    "# this will break the kernel if run because it is infinitely long"
   ]
  },
  {
   "cell_type": "markdown",
   "metadata": {},
   "source": [
    "** What's the point? **\n",
    "\n",
    "You can use a generator instead of an iterator when objects are too large, or when we want to call each element just once. A generator will run the function that created that object each time the object is called upon. For example, for every `next()` call to the `fib_gen` object, it will recalculate the result."
   ]
  },
  {
   "cell_type": "markdown",
   "metadata": {},
   "source": [
    "## Additional Resources"
   ]
  },
  {
   "cell_type": "markdown",
   "metadata": {},
   "source": [
    "Intro to Python:\n",
    "https://www.tutorialspoint.com/python/index.htm\n",
    "\n",
    "Generators:\n",
    "PEP 255 -- Simple Generators:\n",
    "https://www.python.org/dev/peps/pep-0255/\n",
    "\n",
    "PEP 289 - Generator Expressions:\n",
    "https://www.python.org/dev/peps/pep-0289/\n",
    "\n",
    "In-depth Generator Uses:\n",
    "http://www.dabeaz.com/generators-uk/GeneratorsUK.pdf"
   ]
  }
 ],
 "metadata": {
  "kernelspec": {
   "display_name": "Python 2",
   "language": "python",
   "name": "python2"
  },
  "language_info": {
   "codemirror_mode": {
    "name": "ipython",
    "version": 2
   },
   "file_extension": ".py",
   "mimetype": "text/x-python",
   "name": "python",
   "nbconvert_exporter": "python",
   "pygments_lexer": "ipython2",
   "version": "2.7.13"
  }
 },
 "nbformat": 4,
 "nbformat_minor": 2
}
