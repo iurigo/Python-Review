{
 "cells": [
  {
   "cell_type": "markdown",
   "metadata": {
    "slideshow": {
     "slide_type": "slide"
    }
   },
   "source": [
    "# Recursive Functions & Decorators"
   ]
  },
  {
   "cell_type": "markdown",
   "metadata": {
    "slideshow": {
     "slide_type": "slide"
    }
   },
   "source": [
    "### LEARNING OBJECTIVES\n",
    "*After this lesson, you will be able to:*\n",
    "- Implement recursive functions\n",
    "- Understand the use cases for decorators, and implement simple cases"
   ]
  },
  {
   "cell_type": "markdown",
   "metadata": {
    "slideshow": {
     "slide_type": "slide"
    }
   },
   "source": [
    "## Recursive Functions\n",
    "\n",
    "A recursive function is a function that calls itself.  Generally speaking, in programming, recursion involves repeating the same set of operations.\n",
    "\n",
    "> We've already seen this type of operating.... where?"
   ]
  },
  {
   "cell_type": "markdown",
   "metadata": {
    "slideshow": {
     "slide_type": "slide"
    }
   },
   "source": [
    "`def subtract_one(x):\n",
    "    x = x - 1\n",
    "    return subtract_one(x)`\n",
    "\n",
    "This is a recursive function.\n",
    "\n",
    ">What's the problem with this recursive function?"
   ]
  },
  {
   "cell_type": "markdown",
   "metadata": {
    "slideshow": {
     "slide_type": "slide"
    }
   },
   "source": [
    "The typical structure of a recursive function contains some kind of control flow to stop the recursion when it's 'done.'\n",
    "\n",
    "> How would we update the add_one function to stop it running forever?"
   ]
  },
  {
   "cell_type": "code",
   "execution_count": 1,
   "metadata": {
    "slideshow": {
     "slide_type": "slide"
    }
   },
   "outputs": [
    {
     "data": {
      "text/plain": [
       "0"
      ]
     },
     "execution_count": 1,
     "metadata": {},
     "output_type": "execute_result"
    }
   ],
   "source": [
    "def subtract_one(x):\n",
    "    if x <= 0:\n",
    "        return x\n",
    "    else:\n",
    "        x = x - 1\n",
    "        return subtract_one(x)\n",
    "    \n",
    "subtract_one(0)"
   ]
  },
  {
   "cell_type": "markdown",
   "metadata": {
    "slideshow": {
     "slide_type": "slide"
    }
   },
   "source": [
    "That was a totally absurd example... so let's see a real one.\n",
    "\n",
    "Factorials."
   ]
  },
  {
   "cell_type": "markdown",
   "metadata": {
    "slideshow": {
     "slide_type": "fragment"
    }
   },
   "source": [
    "First, let's use a for / while loop to calculate a factorial."
   ]
  },
  {
   "cell_type": "code",
   "execution_count": 2,
   "metadata": {
    "collapsed": true,
    "slideshow": {
     "slide_type": "slide"
    }
   },
   "outputs": [],
   "source": [
    "def factorial(x):\n",
    "    if x == 0 or x==1:\n",
    "        return 1\n",
    "    else:\n",
    "        product = 1\n",
    "        for i in range(1,x+1):\n",
    "            product *=i\n",
    "        return product\n",
    "    "
   ]
  },
  {
   "cell_type": "code",
   "execution_count": 3,
   "metadata": {
    "slideshow": {
     "slide_type": "fragment"
    }
   },
   "outputs": [
    {
     "name": "stdout",
     "output_type": "stream",
     "text": [
      "0 1\n",
      "1 1\n",
      "2 2\n",
      "3 6\n",
      "4 24\n",
      "5 120\n",
      "6 720\n",
      "7 5040\n"
     ]
    }
   ],
   "source": [
    "for i in range(8):\n",
    "    print i, factorial(i)"
   ]
  },
  {
   "cell_type": "markdown",
   "metadata": {
    "slideshow": {
     "slide_type": "slide"
    }
   },
   "source": [
    "Now let's do the same thing, but using recursion."
   ]
  },
  {
   "cell_type": "code",
   "execution_count": 4,
   "metadata": {
    "collapsed": true,
    "slideshow": {
     "slide_type": "slide"
    }
   },
   "outputs": [],
   "source": [
    "def factorial_rec(x):\n",
    "    if x==0 or x == 1:\n",
    "        return 1\n",
    "    else:\n",
    "        return x * factorial_rec(x-1)"
   ]
  },
  {
   "cell_type": "code",
   "execution_count": 5,
   "metadata": {
    "slideshow": {
     "slide_type": "fragment"
    }
   },
   "outputs": [
    {
     "name": "stdout",
     "output_type": "stream",
     "text": [
      "0 1\n",
      "1 1\n",
      "2 2\n",
      "3 6\n",
      "4 24\n",
      "5 120\n",
      "6 720\n",
      "7 5040\n"
     ]
    }
   ],
   "source": [
    "for i in range(8):\n",
    "    print i, factorial_rec(i)"
   ]
  },
  {
   "cell_type": "markdown",
   "metadata": {
    "slideshow": {
     "slide_type": "slide"
    }
   },
   "source": [
    "We have a few exercises to get your writing recursive functions at the end of this lecure."
   ]
  },
  {
   "cell_type": "markdown",
   "metadata": {
    "slideshow": {
     "slide_type": "slide"
    }
   },
   "source": [
    "## Decorators\n",
    "\n",
    "Decorators are functions that modify the behaviour of another function, without needing to modify the code of the other function."
   ]
  },
  {
   "cell_type": "markdown",
   "metadata": {
    "slideshow": {
     "slide_type": "slide"
    }
   },
   "source": [
    "Before we get into that, a little more about the functionality of functions in python."
   ]
  },
  {
   "cell_type": "markdown",
   "metadata": {
    "slideshow": {
     "slide_type": "slide"
    }
   },
   "source": [
    "Functions can be defined and used within other functions."
   ]
  },
  {
   "cell_type": "code",
   "execution_count": 6,
   "metadata": {
    "slideshow": {
     "slide_type": "fragment"
    }
   },
   "outputs": [
    {
     "data": {
      "text/plain": [
       "'The answer you need is: 8'"
      ]
     },
     "execution_count": 6,
     "metadata": {},
     "output_type": "execute_result"
    }
   ],
   "source": [
    "def chatty_exponent(x, y):\n",
    "    \n",
    "    def chat():\n",
    "        return \"The answer you need is: \"\n",
    "    \n",
    "    return chat() + str(x**y)\n",
    "\n",
    "chatty_exponent(2,3)\n",
    "    "
   ]
  },
  {
   "cell_type": "markdown",
   "metadata": {
    "slideshow": {
     "slide_type": "slide"
    }
   },
   "source": [
    "Functions can be passed as arguments to other functions."
   ]
  },
  {
   "cell_type": "code",
   "execution_count": 7,
   "metadata": {
    "slideshow": {
     "slide_type": "fragment"
    }
   },
   "outputs": [
    {
     "name": "stdout",
     "output_type": "stream",
     "text": [
      "The answer you need is: 8\n"
     ]
    }
   ],
   "source": [
    "def exponent(x,y):\n",
    "    return x**y\n",
    "\n",
    "def add_some_chat(a_function, a, b):\n",
    "    return \"The answer you need is: \" + str(a_function(a,b))\n",
    "\n",
    "print add_some_chat(exponent, 2, 3)"
   ]
  },
  {
   "cell_type": "markdown",
   "metadata": {
    "slideshow": {
     "slide_type": "slide"
    }
   },
   "source": [
    "Decorators work a little like the first example.  Remember, they are used to modify other functions (without modifying the code).\n",
    "\n",
    "Let's see an example.  \n",
    "\n",
    "We want to add some functionality such that we can optionally add \"chat\" to any function."
   ]
  },
  {
   "cell_type": "code",
   "execution_count": 8,
   "metadata": {},
   "outputs": [
    {
     "name": "stdout",
     "output_type": "stream",
     "text": [
      "The answer you need is: 4\n",
      "The answer you need is: 4\n"
     ]
    }
   ],
   "source": [
    "# first let's define the decorator\n",
    "\n",
    "def chat(func):\n",
    "    def wrapper(x):\n",
    "        return \"The answer you need is: {}\".format(func(x))\n",
    "    return wrapper\n",
    "\n",
    "# now the function\n",
    "def times_two(n):\n",
    "    return n * 2\n",
    "\n",
    "# combine the two!\n",
    "print chat(times_two)(2)\n",
    "# or\n",
    "new_func = chat(times_two)\n",
    "print new_func(2)"
   ]
  },
  {
   "cell_type": "markdown",
   "metadata": {
    "slideshow": {
     "slide_type": "slide"
    }
   },
   "source": [
    "Python has a nifty short-hand way to apply decorators."
   ]
  },
  {
   "cell_type": "code",
   "execution_count": 9,
   "metadata": {
    "slideshow": {
     "slide_type": "fragment"
    }
   },
   "outputs": [
    {
     "name": "stdout",
     "output_type": "stream",
     "text": [
      "The answer you need is: 12\n"
     ]
    }
   ],
   "source": [
    "@chat\n",
    "def times_three(n):\n",
    "    return n * 3\n",
    "\n",
    "print times_three(4)"
   ]
  },
  {
   "cell_type": "markdown",
   "metadata": {
    "slideshow": {
     "slide_type": "slide"
    }
   },
   "source": [
    "This is equivalent to:"
   ]
  },
  {
   "cell_type": "code",
   "execution_count": 10,
   "metadata": {
    "slideshow": {
     "slide_type": "-"
    }
   },
   "outputs": [
    {
     "name": "stdout",
     "output_type": "stream",
     "text": [
      "The answer you need is: 12\n"
     ]
    }
   ],
   "source": [
    "def times_three(n):\n",
    "    return n * 3\n",
    "\n",
    "times_three = chat(times_three)\n",
    "print times_three(4)"
   ]
  },
  {
   "cell_type": "markdown",
   "metadata": {
    "slideshow": {
     "slide_type": "slide"
    }
   },
   "source": [
    "We can use that same decorator on lots of functions.\n",
    "\n",
    "(For now, given the way we've defined chat, we're restricted only to functions of one variable that return single numeric outputs)."
   ]
  },
  {
   "cell_type": "code",
   "execution_count": 11,
   "metadata": {
    "slideshow": {
     "slide_type": "fragment"
    }
   },
   "outputs": [
    {
     "name": "stdout",
     "output_type": "stream",
     "text": [
      "The answer you need is: 8\n"
     ]
    }
   ],
   "source": [
    "# function to cube a number, decorated with chat\n",
    "\n",
    "@chat\n",
    "def cube(x):\n",
    "    return x**3\n",
    "\n",
    "print cube (2)"
   ]
  },
  {
   "cell_type": "markdown",
   "metadata": {
    "slideshow": {
     "slide_type": "slide"
    }
   },
   "source": [
    "Decorators are confusing.  You may not include them in your code (during this course you almost certainly won't!), but you will encounter them... so you need to know, at least conceptually, what they are doing."
   ]
  },
  {
   "cell_type": "markdown",
   "metadata": {
    "slideshow": {
     "slide_type": "slide"
    }
   },
   "source": [
    "### Independent Practice"
   ]
  },
  {
   "cell_type": "markdown",
   "metadata": {},
   "source": [
    "#### Recursion"
   ]
  },
  {
   "cell_type": "markdown",
   "metadata": {},
   "source": [
    "1. Define a function that takes two arguments, 'base' and 'exponent', that uses recursion to return base<sup>exponent</sup>.\n",
    "<br>`myExponent(2,10)` should return `1024`\n",
    "2. Using recursion, write a Python function that sums the numbers in a list. \n",
    "3. Define a Python function that gets the sum of the digits for a positive integer. <br>\n",
    "`getSumOfPositiveInt(13455)` should return `18`"
   ]
  },
  {
   "cell_type": "code",
   "execution_count": 6,
   "metadata": {},
   "outputs": [
    {
     "data": {
      "text/plain": [
       "12345"
      ]
     },
     "execution_count": 6,
     "metadata": {},
     "output_type": "execute_result"
    }
   ],
   "source": [
    "num = 12345\n",
    "num"
   ]
  },
  {
   "cell_type": "code",
   "execution_count": null,
   "metadata": {
    "collapsed": true
   },
   "outputs": [],
   "source": [
    "def get_sum_of_positive_int(integer):\n",
    "    "
   ]
  },
  {
   "cell_type": "code",
   "execution_count": 5,
   "metadata": {},
   "outputs": [
    {
     "data": {
      "text/plain": [
       "1024"
      ]
     },
     "execution_count": 5,
     "metadata": {},
     "output_type": "execute_result"
    }
   ],
   "source": [
    "def myExponent(base, exponent):\n",
    "    if exponent == 0:\n",
    "        return 1\n",
    "    else:\n",
    "        return base * myExponent(base, exponent-1)\n",
    "    \n",
    "myExponent(2,10)\n",
    "\n"
   ]
  },
  {
   "cell_type": "code",
   "execution_count": 3,
   "metadata": {},
   "outputs": [
    {
     "data": {
      "text/plain": [
       "10"
      ]
     },
     "execution_count": 3,
     "metadata": {},
     "output_type": "execute_result"
    }
   ],
   "source": [
    "def sum_numbers(some_list):\n",
    "    if len(some_list) == 1:\n",
    "        return some_list[0]\n",
    "    else:\n",
    "        return some_list[0] + sum_numbers(some_list[1:])\n",
    "sum_numbers([1,2,3,4])"
   ]
  },
  {
   "cell_type": "markdown",
   "metadata": {},
   "source": [
    "#### Decorators"
   ]
  },
  {
   "cell_type": "markdown",
   "metadata": {},
   "source": [
    "1. You're going to write a `decorator` that mimics a bug! Write a decorator that will modify the output of a function that returns a number.  You are going to modify the output by multiplying it by 2.\n",
    "2. Write a function that takes a string as an argument and returns that same string. Then, write a `decorator` that wraps that string in two print statements of your choice - returning a print statement above and a print statement below your first function's output!\n",
    "3. Write a function, `double()` that doubles an int or float. Then, make it more interesting by adding a `decorator` called `tell_me_more`:\n",
    "\n",
    "```python\n",
    "@tell_me_more\n",
    "def double(x):\n",
    "  return 2*x\n",
    "```\n",
    "When you call the function your decorator should do something like this:\n",
    "```bash\n",
    ">>> double(2)\n",
    "Hey, friend! The answer you wanted was 4.\n",
    "```"
   ]
  }
 ],
 "metadata": {
  "anaconda-cloud": {},
  "celltoolbar": "Slideshow",
  "kernelspec": {
   "display_name": "Python 2",
   "language": "python",
   "name": "python2"
  },
  "language_info": {
   "codemirror_mode": {
    "name": "ipython",
    "version": 2
   },
   "file_extension": ".py",
   "mimetype": "text/x-python",
   "name": "python",
   "nbconvert_exporter": "python",
   "pygments_lexer": "ipython2",
   "version": "2.7.13"
  }
 },
 "nbformat": 4,
 "nbformat_minor": 1
}
